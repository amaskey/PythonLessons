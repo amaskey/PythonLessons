{
  "nbformat": 4,
  "nbformat_minor": 0,
  "metadata": {
    "colab": {
      "provenance": []
    },
    "kernelspec": {
      "name": "python3",
      "display_name": "Python 3"
    },
    "language_info": {
      "name": "python"
    }
  },
  "cells": [
    {
      "cell_type": "markdown",
      "source": [
        "#Lesson 1: Introduction to Loops, Lists, and Tuples in Python\n",
        "#Author: Arnav Maskey"
      ],
      "metadata": {
        "id": "DylbZQzlRAHw"
      }
    },
    {
      "cell_type": "code",
      "execution_count": 1,
      "metadata": {
        "colab": {
          "base_uri": "https://localhost:8080/"
        },
        "id": "-ZC8UMyQPoKd",
        "outputId": "648851fe-a352-4abb-8b7a-b7dcbfa5decf"
      },
      "outputs": [
        {
          "output_type": "stream",
          "name": "stdout",
          "text": [
            "0\n",
            "1\n",
            "2\n",
            "3\n",
            "4\n"
          ]
        }
      ],
      "source": [
        "#For Loop\n",
        "#Use a for loop when the number of iterations is known, or you are iterating over a sequence.\n",
        "\n",
        "#Simple For Loop:\n",
        "# Looping through a range of numbers\n",
        "for i in range(5):\n",
        "    print(i)  # Output: 0, 1, 2, 3, 4\n"
      ]
    },
    {
      "cell_type": "code",
      "source": [
        "#For Loop with a List:\n",
        "fruits = [\"apple\", \"banana\", \"cherry\"]\n",
        "for fruit in fruits:\n",
        "    print(fruit)  # Output: apple, banana, cherry\n"
      ],
      "metadata": {
        "colab": {
          "base_uri": "https://localhost:8080/"
        },
        "id": "VCmA8tDYP4LR",
        "outputId": "e84fee95-d6dc-4eb9-bbba-7749a67b6e46"
      },
      "execution_count": 2,
      "outputs": [
        {
          "output_type": "stream",
          "name": "stdout",
          "text": [
            "apple\n",
            "banana\n",
            "cherry\n"
          ]
        }
      ]
    },
    {
      "cell_type": "code",
      "source": [
        "#For Loop with enumerate:\n",
        "# Looping through a list with index\n",
        "for index, fruit in enumerate(fruits):\n",
        "    print(f\"{index}: {fruit}\")  # Output: 0: apple, 1: banana, 2: cherry\n"
      ],
      "metadata": {
        "colab": {
          "base_uri": "https://localhost:8080/"
        },
        "id": "XjSxYGBAQCBN",
        "outputId": "dd85d952-54c9-4949-9f8f-66f4774b20cd"
      },
      "execution_count": 3,
      "outputs": [
        {
          "output_type": "stream",
          "name": "stdout",
          "text": [
            "0: apple\n",
            "1: banana\n",
            "2: cherry\n"
          ]
        }
      ]
    },
    {
      "cell_type": "code",
      "source": [
        "# Nested For loop\n",
        "for i in range(3):\n",
        "    for j in range(3):\n",
        "        print(f\"({i}, {j})\")  # Outputs pairs of indices (0,0), (0,1), (0,2), etc\n"
      ],
      "metadata": {
        "colab": {
          "base_uri": "https://localhost:8080/"
        },
        "id": "FSvUmY5SQFNt",
        "outputId": "3569b04b-89c0-4cff-df3d-14cb7e6761b1"
      },
      "execution_count": 4,
      "outputs": [
        {
          "output_type": "stream",
          "name": "stdout",
          "text": [
            "(0, 0)\n",
            "(0, 1)\n",
            "(0, 2)\n",
            "(1, 0)\n",
            "(1, 1)\n",
            "(1, 2)\n",
            "(2, 0)\n",
            "(2, 1)\n",
            "(2, 2)\n"
          ]
        }
      ]
    },
    {
      "cell_type": "code",
      "source": [
        "#While Loop\n",
        "#Use a while loop when the number of iterations is not known in advance, and the loop should continue as long as a certain condition is met.\n",
        "\n",
        "# Simple while loop\n",
        "counter = 0\n",
        "while counter < 5:\n",
        "    print(counter)  # Output: 0, 1, 2, 3, 4\n",
        "    counter += 1\n"
      ],
      "metadata": {
        "colab": {
          "base_uri": "https://localhost:8080/"
        },
        "id": "MvCR9FnnQIiu",
        "outputId": "6aed13b3-ff18-40f9-af97-0a7ce712f49c"
      },
      "execution_count": 5,
      "outputs": [
        {
          "output_type": "stream",
          "name": "stdout",
          "text": [
            "0\n",
            "1\n",
            "2\n",
            "3\n",
            "4\n"
          ]
        }
      ]
    },
    {
      "cell_type": "code",
      "source": [
        "# While loop with break:\n",
        "counter = 0\n",
        "while True:\n",
        "    if counter >= 5:\n",
        "        break\n",
        "    print(counter)  # Output: 0, 1, 2, 3, 4\n",
        "    counter += 1\n"
      ],
      "metadata": {
        "colab": {
          "base_uri": "https://localhost:8080/"
        },
        "id": "Hxn8NDPaQQXE",
        "outputId": "aa4ddf40-c5e3-4cef-869f-bbea5a12a0a7"
      },
      "execution_count": 6,
      "outputs": [
        {
          "output_type": "stream",
          "name": "stdout",
          "text": [
            "0\n",
            "1\n",
            "2\n",
            "3\n",
            "4\n"
          ]
        }
      ]
    },
    {
      "cell_type": "code",
      "source": [
        " #Lists\n",
        " #Utilizing lists is suitable in various scenarios due to their flexibility and the extensive functionality they provide. Here are some situations where using a list is appropriate:\n",
        "\n",
        "#Dynamic Data Collection:\n",
        "#When you need a collection that can grow or shrink dynamically based on the program's requirements, lists are an excellent choice.\n",
        "\n",
        "#Ordered Data:\n",
        "#If the order of elements matters for your application, lists preserve the order of insertion, making them a suitable choice.\n",
        "\n",
        "#Iterating Over Elements:\n",
        "#Lists are ideal when you need to iterate over elements, whether it's through a for-loop or while-loop.\n",
        "\n",
        "#Multi-dimensional Arrays:\n",
        "#You can create multi-dimensional arrays using lists of lists, which is useful in various applications, such as matrix operations.\n",
        "\n"
      ],
      "metadata": {
        "id": "yTwKP0JSQXOW"
      },
      "execution_count": 8,
      "outputs": []
    },
    {
      "cell_type": "code",
      "source": [
        "#Data Manipulation:\n",
        "\n",
        " # Creating a list\n",
        "my_list = [1, 2, 3, 4, 5]\n",
        "print(f\"My list: {my_list}\")"
      ],
      "metadata": {
        "colab": {
          "base_uri": "https://localhost:8080/"
        },
        "id": "ZogNQb6OQgYp",
        "outputId": "8e4a49c8-8e92-4cfe-c30e-5e0a74e4a0bb"
      },
      "execution_count": 10,
      "outputs": [
        {
          "output_type": "stream",
          "name": "stdout",
          "text": [
            "My list: [1, 2, 3, 4, 5]\n"
          ]
        }
      ]
    },
    {
      "cell_type": "code",
      "source": [
        "# Accessing elements in a list\n",
        "print(f\"The first element in my list is: {my_list[0]}\")\n"
      ],
      "metadata": {
        "colab": {
          "base_uri": "https://localhost:8080/"
        },
        "id": "UsUz0Wf5QlEy",
        "outputId": "edf6b36c-087b-429d-ba1b-02dbd4d2d0b1"
      },
      "execution_count": 11,
      "outputs": [
        {
          "output_type": "stream",
          "name": "stdout",
          "text": [
            "The first element in my list is: 1\n"
          ]
        }
      ]
    },
    {
      "cell_type": "code",
      "source": [
        "# Modifying a list\n",
        "my_list[1] = 10\n",
        "print(f\"My modified list: {my_list}\")\n"
      ],
      "metadata": {
        "colab": {
          "base_uri": "https://localhost:8080/"
        },
        "id": "lH9jsp7oQmn9",
        "outputId": "592ee0a1-d687-46c6-da8a-f3be2b4615c8"
      },
      "execution_count": 12,
      "outputs": [
        {
          "output_type": "stream",
          "name": "stdout",
          "text": [
            "My modified list: [1, 10, 3, 4, 5]\n"
          ]
        }
      ]
    },
    {
      "cell_type": "code",
      "source": [
        "#Tuples\n",
        "#Tuples are useful in various scenarios due to their immutability and ability to hold heterogeneous data. Here are several instances when you might want to use tuples:\n",
        "#Immutable Data:\n",
        "\n",
        "#When you have data that should not be changed, tuples are a great choice since they are immutable.\n",
        "#Heterogeneous Data:\n",
        "\n",
        "#Tuples can store a mix of data types, making them useful for grouping different but related pieces of information together.\n",
        "#Hashable Keys:\n",
        "\n",
        "#Tuples can be used as keys in dictionaries, unlike lists, because they are hashable.\n"
      ],
      "metadata": {
        "id": "bb-sgfaKQtne"
      },
      "execution_count": 13,
      "outputs": []
    },
    {
      "cell_type": "code",
      "source": [
        "# Creating a tuple\n",
        "my_tuple = (1, 2, 3, 4, 5)\n",
        "print(f\"My tuple: {my_tuple}\")\n",
        "\n",
        "# Accessing elements in a tuple\n",
        "print(f\"The second element in my tuple is: {my_tuple[1]}\")\n",
        "\n",
        "# Note: Tuples are immutable, so you cannot modify them like lists\n"
      ],
      "metadata": {
        "colab": {
          "base_uri": "https://localhost:8080/"
        },
        "id": "-3OfkjXrQu7-",
        "outputId": "d1f0d4f3-ac37-4b97-8f7e-5bb6254aca5c"
      },
      "execution_count": 14,
      "outputs": [
        {
          "output_type": "stream",
          "name": "stdout",
          "text": [
            "My tuple: (1, 2, 3, 4, 5)\n",
            "The second element in my tuple is: 2\n"
          ]
        }
      ]
    }
  ]
}