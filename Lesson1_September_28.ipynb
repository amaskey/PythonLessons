{
  "nbformat": 4,
  "nbformat_minor": 0,
  "metadata": {
    "colab": {
      "provenance": []
    },
    "kernelspec": {
      "name": "python3",
      "display_name": "Python 3"
    },
    "language_info": {
      "name": "python"
    }
  },
  "cells": [
    {
      "cell_type": "markdown",
      "source": [
        "#Lesson 1: Introduction to Loops, Lists, and Tuples in Python\n",
        "#Author: Arnav Maskey"
      ],
      "metadata": {
        "id": "DylbZQzlRAHw"
      }
    },
    {
      "cell_type": "code",
      "execution_count": null,
      "metadata": {
        "collapsed": true,
        "id": "-ZC8UMyQPoKd"
      },
      "outputs": [],
      "source": [
        "#For Loop\n",
        "#Use a for loop when the number of iterations is known, or you are iterating over a sequence.\n",
        "\n",
        "#Simple For Loop:\n",
        "# Looping through a range of numbers\n",
        "for i in range(5):\n",
        "    print(i)  # Output: 0, 1, 2, 3, 4\n"
      ]
    },
    {
      "cell_type": "code",
      "source": [
        "#For Loop with a List:\n",
        "fruits = [\"apple\", \"banana\", \"cherry\"]\n",
        "for fruit in fruits:\n",
        "    print(fruit)  # Output: apple, banana, cherry\n"
      ],
      "metadata": {
        "id": "VCmA8tDYP4LR"
      },
      "execution_count": null,
      "outputs": []
    },
    {
      "cell_type": "code",
      "source": [
        "#For Loop with enumerate:\n",
        "# Looping through a list with index\n",
        "for index, fruit in enumerate(fruits):\n",
        "    print(f\"{index}: {fruit}\")  # Output: 0: apple, 1: banana, 2: cherry\n"
      ],
      "metadata": {
        "id": "XjSxYGBAQCBN"
      },
      "execution_count": null,
      "outputs": []
    },
    {
      "cell_type": "code",
      "source": [
        "# Nested For loop\n",
        "for i in range(3):\n",
        "    for j in range(3):\n",
        "        print(f\"({i}, {j})\")  # Outputs pairs of indices (0,0), (0,1), (0,2), etc\n"
      ],
      "metadata": {
        "id": "FSvUmY5SQFNt"
      },
      "execution_count": null,
      "outputs": []
    },
    {
      "cell_type": "code",
      "source": [
        "#While Loop\n",
        "#Use a while loop when the number of iterations is not known in advance, and the loop should continue as long as a certain condition is met.\n",
        "\n",
        "# Simple while loop\n",
        "counter = 0\n",
        "while counter < 5:\n",
        "    print(counter)  # Output: 0, 1, 2, 3, 4\n",
        "    counter += 1\n"
      ],
      "metadata": {
        "id": "MvCR9FnnQIiu"
      },
      "execution_count": null,
      "outputs": []
    },
    {
      "cell_type": "code",
      "source": [
        "# While loop with break:\n",
        "counter = 0\n",
        "while True:\n",
        "    if counter >= 5:\n",
        "        break\n",
        "    print(counter)  # Output: 0, 1, 2, 3, 4\n",
        "    counter += 1\n"
      ],
      "metadata": {
        "id": "Hxn8NDPaQQXE"
      },
      "execution_count": null,
      "outputs": []
    },
    {
      "cell_type": "code",
      "source": [
        " #Lists\n",
        " #Utilizing lists is suitable in various scenarios due to their flexibility and the extensive functionality they provide. Here are some situations where using a list is appropriate:\n",
        "\n",
        "#Dynamic Data Collection:\n",
        "#When you need a collection that can grow or shrink dynamically based on the program's requirements, lists are an excellent choice.\n",
        "\n",
        "#Ordered Data:\n",
        "#If the order of elements matters for your application, lists preserve the order of insertion, making them a suitable choice.\n",
        "\n",
        "#Iterating Over Elements:\n",
        "#Lists are ideal when you need to iterate over elements, whether it's through a for-loop or while-loop.\n",
        "\n",
        "#Multi-dimensional Arrays:\n",
        "#You can create multi-dimensional arrays using lists of lists, which is useful in various applications, such as matrix operations.\n",
        "\n"
      ],
      "metadata": {
        "id": "yTwKP0JSQXOW"
      },
      "execution_count": 8,
      "outputs": []
    },
    {
      "cell_type": "code",
      "source": [
        "#Data Manipulation:\n",
        "\n",
        " # Creating a list\n",
        "my_list = [1, 2, 3, 4, 5]\n",
        "print(f\"My list: {my_list}\")"
      ],
      "metadata": {
        "id": "ZogNQb6OQgYp"
      },
      "execution_count": null,
      "outputs": []
    },
    {
      "cell_type": "code",
      "source": [
        "# Accessing elements in a list\n",
        "print(f\"The first element in my list is: {my_list[0]}\")\n"
      ],
      "metadata": {
        "id": "UsUz0Wf5QlEy"
      },
      "execution_count": null,
      "outputs": []
    },
    {
      "cell_type": "code",
      "source": [
        "# Modifying a list\n",
        "my_list[1] = 10\n",
        "print(f\"My modified list: {my_list}\")\n"
      ],
      "metadata": {
        "id": "lH9jsp7oQmn9"
      },
      "execution_count": null,
      "outputs": []
    },
    {
      "cell_type": "code",
      "source": [
        "#Tuples\n",
        "#Tuples are useful in various scenarios due to their immutability and ability to hold heterogeneous data. Here are several instances when you might want to use tuples:\n",
        "#Immutable Data:\n",
        "\n",
        "#When you have data that should not be changed, tuples are a great choice since they are immutable.\n",
        "#Heterogeneous Data:\n",
        "\n",
        "#Tuples can store a mix of data types, making them useful for grouping different but related pieces of information together.\n",
        "#Hashable Keys:\n",
        "\n",
        "#Tuples can be used as keys in dictionaries, unlike lists, because they are hashable.\n"
      ],
      "metadata": {
        "id": "bb-sgfaKQtne"
      },
      "execution_count": 13,
      "outputs": []
    },
    {
      "cell_type": "code",
      "source": [
        "# Creating a tuple\n",
        "my_tuple = (1, 2, 3, 4, 5)\n",
        "print(f\"My tuple: {my_tuple}\")\n",
        "\n",
        "# Accessing elements in a tuple\n",
        "print(f\"The second element in my tuple is: {my_tuple[1]}\")\n",
        "\n",
        "# Note: Tuples are immutable, so you cannot modify them like lists\n"
      ],
      "metadata": {
        "id": "-3OfkjXrQu7-"
      },
      "execution_count": null,
      "outputs": []
    }
  ]
}