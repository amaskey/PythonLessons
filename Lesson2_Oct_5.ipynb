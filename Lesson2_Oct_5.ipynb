{
  "nbformat": 4,
  "nbformat_minor": 0,
  "metadata": {
    "colab": {
      "provenance": []
    },
    "kernelspec": {
      "name": "python3",
      "display_name": "Python 3"
    },
    "language_info": {
      "name": "python"
    }
  },
  "cells": [
    {
      "cell_type": "markdown",
      "source": [
        "#Lesson 2: Functions and Matplotlib\n",
        "#Author: Arnav Maskey"
      ],
      "metadata": {
        "id": "2yBXtiRwFx60"
      }
    },
    {
      "cell_type": "code",
      "source": [
        "#########################\n",
        "\n",
        "#Functions\n",
        "#Functions are blocks of code that can be executed anywhere in a program. Functions can be #reused makes the code more modular.\n"
      ],
      "metadata": {
        "id": "RyVf0sdgGEBt"
      },
      "execution_count": 1,
      "outputs": []
    },
    {
      "cell_type": "code",
      "source": [
        "#########################\n",
        "#Basic Function Definition and Calling:\n",
        "\n",
        "# Defining a function to greet the user\n",
        "def greet(name):\n",
        "    \"\"\"This function greets the provided name.\"\"\"\n",
        "    print(f\"Hello, {name}!\")\n",
        "\n",
        "# Calling the function\n",
        "greet(\"Arnav\")\n"
      ],
      "metadata": {
        "id": "PjLO_60mGJJO"
      },
      "execution_count": null,
      "outputs": []
    },
    {
      "cell_type": "code",
      "source": [
        "#########################\n",
        "\n",
        "#Function with Return Value:\n",
        "\n",
        "# Defining a function to add two numbers\n",
        "def add(num1, num2):\n",
        "    \"\"\"This function returns the sum of two numbers.\"\"\"\n",
        "    return num1 + num2\n",
        "\n",
        "# Calling the function and storing the result\n",
        "sum_result = add(5, 3)\n",
        "print(sum_result)\n"
      ],
      "metadata": {
        "id": "sFZ9TgMaGQmB"
      },
      "execution_count": null,
      "outputs": []
    },
    {
      "cell_type": "code",
      "source": [
        "#########################\n",
        "\n",
        "# Function with Default Arguments:\n",
        "\n",
        "# Defining a function with a default argument\n",
        "def greet(name=\"User\"):\n",
        "    \"\"\"This function greets the provided name or 'User' if no name is provided.\"\"\"\n",
        "    print(f\"Hello, {name}!\")\n",
        "\n",
        "# Calling the function without providing an argument\n",
        "greet()\n",
        "\n",
        "# Calling the function with an argument\n",
        "greet(\"Arnav\")\n"
      ],
      "metadata": {
        "id": "cgLpmQrfGZw8"
      },
      "execution_count": null,
      "outputs": []
    },
    {
      "cell_type": "code",
      "source": [
        "#########################\n",
        "\n",
        "\n",
        "# Function with Multiple Return Values:\n",
        "\n",
        "# Defining a function to return multiple values\n",
        "def min_max(numbers):\n",
        "    \"\"\"This function returns the minimum and maximum of a list of numbers.\"\"\"\n",
        "    return min(numbers), max(numbers)\n",
        "\n",
        "# Calling the function and unpacking the result\n",
        "min_value, max_value = min_max([3, 1, 4, 1, 5, 9, 2, 6])\n",
        "print(f\"Min: {min_value}, Max: {max_value}\")\n"
      ],
      "metadata": {
        "id": "huJQ6YOxGiF6"
      },
      "execution_count": null,
      "outputs": []
    },
    {
      "cell_type": "code",
      "source": [
        "#########################\n",
        "\n",
        "# Function with Variable Number of Arguments:\n",
        "\n",
        "# Defining a function to accept a variable number of arguments\n",
        "def print_args(*args):\n",
        "    \"\"\"This function prints all provided arguments.\"\"\"\n",
        "    for index, arg in enumerate(args):\n",
        "        print(f\"Argument {index}: {arg}\")\n",
        "\n",
        "# Calling the function with multiple arguments\n",
        "print_args(\"Alabama\", \"Georgia\", \"Tennessee\")\n"
      ],
      "metadata": {
        "id": "oifUzf96GnWH"
      },
      "execution_count": null,
      "outputs": []
    },
    {
      "cell_type": "code",
      "source": [
        "#########################\n",
        "#Matplotlib examples\n",
        "#Steps:\n",
        "#First, the necessary library (matplotlib.pyplot) is imported.\n",
        "#Data for the chart is defined.\n",
        "#The chart is created using a function from matplotlib.pyplot (such as plt.plot, plt.bar, etc.).\n",
        "#Title and labels are added to the chart using plt.title, plt.xlabel, and plt.ylabel.\n",
        "#Finally, the chart is displayed using plt.show().\n"
      ],
      "metadata": {
        "id": "EutljHAgGvjf"
      },
      "execution_count": 8,
      "outputs": []
    },
    {
      "cell_type": "code",
      "source": [
        "#########################\n",
        "\n",
        "# Line chart\n",
        "\n",
        "import matplotlib.pyplot as plt\n",
        "\n",
        "# Data\n",
        "x = [1, 2, 3, 4, 5]\n",
        "y = [2, 3, 5, 7, 11]\n",
        "\n",
        "# Create line chart\n",
        "plt.plot(x, y)\n",
        "\n",
        "# Add title and labels\n",
        "plt.title('Line Chart Example')\n",
        "plt.xlabel('X Axis Label')\n",
        "plt.ylabel('Y Axis Label')\n",
        "\n",
        "# Display the chart\n",
        "plt.show()\n"
      ],
      "metadata": {
        "id": "Eqn7h35GG6Ce"
      },
      "execution_count": null,
      "outputs": []
    },
    {
      "cell_type": "code",
      "source": [
        "#########################\n",
        "\n",
        "# Bar chart\n",
        "\n",
        "# Data\n",
        "categories = ['Category 1', 'Category 2', 'Category 3']\n",
        "values = [4, 7, 1]\n",
        "\n",
        "# Create bar chart\n",
        "plt.bar(categories, values)\n",
        "\n",
        "# Add title and labels\n",
        "plt.title('Bar Chart Example')\n",
        "plt.xlabel('Categories')\n",
        "plt.ylabel('Values')\n",
        "\n",
        "# Display the chart\n",
        "plt.show()\n"
      ],
      "metadata": {
        "id": "P1_utSAnG-SD"
      },
      "execution_count": null,
      "outputs": []
    },
    {
      "cell_type": "code",
      "source": [
        "##########################\n",
        "\n",
        "# Pie chart\n",
        "\n",
        "# Data\n",
        "labels = ['Section 1', 'Section 2', 'Section 3']\n",
        "sizes = [15, 30, 45]\n",
        "\n",
        "# Create pie chart\n",
        "plt.pie(sizes, labels=labels, autopct='%1.1f%%')\n",
        "\n",
        "# Add title\n",
        "plt.title('Pie Chart Example')\n",
        "\n",
        "# Display the chart\n",
        "plt.show()\n"
      ],
      "metadata": {
        "id": "QYQsVN5zHB9U"
      },
      "execution_count": null,
      "outputs": []
    },
    {
      "cell_type": "code",
      "source": [
        "##########################\n",
        "\n",
        "# Histogram\n",
        "\n",
        "# Data\n",
        "data = [1, 2, 2, 3, 3, 3, 4, 4, 4, 4, 5, 5, 5, 5, 5]\n",
        "\n",
        "# Create histogram\n",
        "plt.hist(data, bins=5, edgecolor='black')\n",
        "\n",
        "# Add title and labels\n",
        "plt.title('Histogram Example')\n",
        "plt.xlabel('Values')\n",
        "plt.ylabel('Frequency')\n",
        "\n",
        "# Display the chart\n",
        "plt.show()\n"
      ],
      "metadata": {
        "id": "P3TMAZMzHDZM"
      },
      "execution_count": null,
      "outputs": []
    },
    {
      "cell_type": "code",
      "source": [
        "##########################\n",
        "\n",
        "# Scatter plot\n",
        "\n",
        "# Data\n",
        "x = [1, 2, 3, 4, 5]\n",
        "y = [2, 3, 5, 7, 11]\n",
        "\n",
        "# Create scatter plot\n",
        "plt.scatter(x, y)\n",
        "\n",
        "# Add title and labels\n",
        "plt.title('Scatter Plot Example')\n",
        "plt.xlabel('X Axis Label')\n",
        "plt.ylabel('Y Axis Label')\n",
        "\n",
        "# Display the chart\n",
        "plt.show()\n"
      ],
      "metadata": {
        "id": "C0Ns-FW6HF_U"
      },
      "execution_count": null,
      "outputs": []
    },
    {
      "cell_type": "code",
      "source": [
        "##########################\n",
        "\n",
        "# Box plot\n",
        "\n",
        "# Data\n",
        "data = [[1, 2, 3, 4, 5], [6, 7, 8, 9, 10], [11, 12, 13, 14, 15]]\n",
        "\n",
        "# Create box plot\n",
        "plt.boxplot(data)\n",
        "\n",
        "# Add title and labels\n",
        "plt.title('Box Plot Example')\n",
        "plt.xlabel('Categories')\n",
        "plt.ylabel('Values')\n",
        "\n",
        "# Display the chart\n",
        "plt.show()\n",
        "\n",
        "#########################\n"
      ],
      "metadata": {
        "id": "G3UZITedHK-g"
      },
      "execution_count": null,
      "outputs": []
    }
  ]
}