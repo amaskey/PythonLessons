{
  "nbformat": 4,
  "nbformat_minor": 0,
  "metadata": {
    "colab": {
      "provenance": []
    },
    "kernelspec": {
      "name": "python3",
      "display_name": "Python 3"
    },
    "language_info": {
      "name": "python"
    }
  },
  "cells": [
    {
      "cell_type": "markdown",
      "source": [
        "#Lesson 3: Numpy\n",
        "#Author: Arnav Maskey\n"
      ],
      "metadata": {
        "id": "Srder8nglOke"
      }
    },
    {
      "cell_type": "code",
      "source": [
        "#############################\n",
        "#Basic Overview:\n",
        "\n",
        "#Array Creation\n",
        "\n",
        "import numpy as np\n",
        "a = np.array([1, 2, 3])\n",
        "print(a)\n"
      ],
      "metadata": {
        "id": "9eAHPnYvlVmE"
      },
      "execution_count": null,
      "outputs": []
    },
    {
      "cell_type": "code",
      "source": [
        "#Basic Operations**:\n",
        "\n",
        "import numpy as np\n",
        "a = np.array([1, 2, 3])\n",
        "b = np.array([4, 5, 6])\n",
        "print(a + b)  # Element-wise addition\n",
        "print(a * b)  # Element-wise multiplication\n"
      ],
      "metadata": {
        "id": "JgDmzgg3lY5f"
      },
      "execution_count": null,
      "outputs": []
    },
    {
      "cell_type": "code",
      "source": [
        "#Indexing and Slicing**:\n",
        "\n",
        "import numpy as np\n",
        "a = np.array([[1, 2, 3], [4, 5, 6], [7, 8, 9]])\n",
        "print(a[1, 2])  # Outputs 6\n",
        "print(a[:, 1])  # Outputs [2 5 8]\n"
      ],
      "metadata": {
        "id": "a5t5iYlfla8l"
      },
      "execution_count": null,
      "outputs": []
    },
    {
      "cell_type": "code",
      "source": [
        "#############################\n",
        "#Intermediate Level:\n",
        "\n",
        "#Reshaping Arrays\n",
        "#Refers to changing the structure (i.e., the number of rows, columns, and possibly more dimensions) of an array without changing its data.\n",
        "\n",
        "import numpy as np\n",
        "a = np.array([[1, 2, 3], [4, 5, 6]])\n",
        "b = a.reshape(3, 2)\n",
        "print(b)\n"
      ],
      "metadata": {
        "id": "rsnmPYBGlcbR"
      },
      "execution_count": null,
      "outputs": []
    },
    {
      "cell_type": "code",
      "source": [
        "#Matrix Multiplication\n",
        "\n",
        "import numpy as np\n",
        "a = np.array([[1, 2], [3, 4]])\n",
        "b = np.array([[2, 0], [0, 2]])\n",
        "result = np.dot(a, b)\n",
        "print(result)\n",
        "\n"
      ],
      "metadata": {
        "id": "LhKg3zjxlgtY"
      },
      "execution_count": null,
      "outputs": []
    },
    {
      "cell_type": "code",
      "source": [
        "#############################\n",
        "#Advanced Level:\n",
        "\n",
        "#Eigenvalues and Eigenvectors\n",
        "import numpy as np\n",
        "a = np.array([[4, 2], [2, 4]])\n",
        "eigenvalues, eigenvectors = np.linalg.eig(a)\n",
        "print(\"Eigenvalues:\", eigenvalues)\n",
        "print(\"Eigenvectors:\", eigenvectors)\n"
      ],
      "metadata": {
        "id": "S7ZDayaElhPQ"
      },
      "execution_count": null,
      "outputs": []
    },
    {
      "cell_type": "code",
      "source": [
        "#Broadcasting\n",
        "\n",
        "import numpy as np\n",
        "a = np.array([[1, 2, 3], [4, 5, 6], [7, 8, 9]])\n",
        "b = np.array([1, 0, 1])\n",
        "result = a + b\n",
        "print(result)\n"
      ],
      "metadata": {
        "id": "n84zXqYhlkSN"
      },
      "execution_count": null,
      "outputs": []
    },
    {
      "cell_type": "code",
      "source": [
        "### Documentation:\n",
        "\n",
        "#For a comprehensive understanding and detailed documentation, you can refer to the official [NumPy documentation](https://numpy.org/doc/).\n",
        "#This documentation provides in-depth explanations, more examples, and advanced functionalities of NumPy.\n"
      ],
      "metadata": {
        "id": "4FiQCoXFlnrv"
      },
      "execution_count": null,
      "outputs": []
    }
  ]
}