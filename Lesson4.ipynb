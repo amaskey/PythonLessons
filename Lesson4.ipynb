{
  "nbformat": 4,
  "nbformat_minor": 0,
  "metadata": {
    "colab": {
      "provenance": []
    },
    "kernelspec": {
      "name": "python3",
      "display_name": "Python 3"
    },
    "language_info": {
      "name": "python"
    }
  },
  "cells": [
    {
      "cell_type": "markdown",
      "source": [
        "#Lesson 4: Column Encoding\n",
        "#Author: Arnav Maskey\n"
      ],
      "metadata": {
        "id": "ooHK4KCG8qAP"
      }
    },
    {
      "cell_type": "markdown",
      "source": [
        "Understanding Tables and DataFrames\n",
        "\n",
        "One common way to organize data is in a table, similar to a spreadsheet.\n",
        "In Python, a popular library called pandas is used to work with tabular data, and it provides a structure called a DataFrame to hold this kind of data.\n",
        "A DataFrame is like a table with rows and columns, where each column has a name.\n"
      ],
      "metadata": {
        "id": "iS8f_-azVe39"
      }
    },
    {
      "cell_type": "markdown",
      "source": [
        "What is Categorical Data?\n",
        "\n",
        "In a DataFrame, some columns may contain categorical data.\n",
        "Categorical data is a type of data that can take on one of a limited set of values.\n",
        "These values represent possible categories or labels.\n",
        "For example, a column named \"Color\" in a DataFrame might have values like \"Red\", \"Green\", and \"Blue\". These are categories.\n",
        "\n"
      ],
      "metadata": {
        "id": "Ji4maR9rVpWP"
      }
    },
    {
      "cell_type": "markdown",
      "source": [
        "The Need for Column Encoding\n",
        "\n",
        "Many machine learning algorithms and models work better with numerical data rather than text.\n",
        "However, our data often includes categorical data, which is text.\n",
        "So, we need a way to convert these categories into numbers. This process is called column encoding.\n"
      ],
      "metadata": {
        "id": "SYTZ9t2nVxzi"
      }
    },
    {
      "cell_type": "markdown",
      "source": [
        "Types of Column Encoding\n",
        "\n",
        "There are several ways to do column encoding, but two of the most common methods are:\n",
        "\n",
        "1. **Label Encoding**: This method converts each category into a unique integer. For example, \"Red\" might become 0, \"Green\" might become 1, and \"Blue\" might become 2.\n",
        "\n",
        "2. **One-Hot Encoding**: This method creates a new column for each category and uses 0s and 1s to indicate the presence of a category. For the \"Color\" example, it would create three new columns: \"Color_Red\", \"Color_Green\", and \"Color_Blue\". If a row had the color \"Red\", then \"Color_Red\" would be 1, and \"Color_Green\" and \"Color_Blue\" would be 0.\n"
      ],
      "metadata": {
        "id": "9ohR_dV9V5jl"
      }
    },
    {
      "cell_type": "markdown",
      "source": [
        "When to Use Each Method\n",
        "\n",
        "- **Label Encoding**: Use this when the categorical variable has some kind of order or hierarchy (ordinal data). For example, \"Low\", \"Medium\", \"High\".\n",
        "\n",
        "- **One-Hot Encoding**: Use this when there is no ordinal relationship in the categorical variable (nominal data). For example, \"Red\", \"Green\", \"Blue\".\n"
      ],
      "metadata": {
        "id": "BET5OaLAWEXY"
      }
    },
    {
      "cell_type": "code",
      "source": [
        "# Example: Column Encoding in Python\n",
        "\n",
        "# First, make sure you have the required libraries installed:\n",
        "\n",
        "#pip install pandas scikit-learn\n"
      ],
      "metadata": {
        "id": "9WuvcixYWKkF"
      },
      "execution_count": 3,
      "outputs": []
    },
    {
      "cell_type": "code",
      "source": [
        "#Now, let’s proceed with the example:\n",
        "\n",
        "import pandas as pd\n",
        "from sklearn.preprocessing import LabelEncoder, OneHotEncoder\n",
        "\n",
        "# Sample DataFrame with a categorical column\n",
        "data = {'Fruit': ['Apple', 'Banana', 'Orange', 'Apple', 'Banana']}\n",
        "df = pd.DataFrame(data)\n",
        "\n",
        "print(\"Fruit DataFrame:\")\n",
        "print(df)\n"
      ],
      "metadata": {
        "id": "LvcCffvHWdVP"
      },
      "execution_count": null,
      "outputs": []
    },
    {
      "cell_type": "code",
      "source": [
        "## Label Encoding\n",
        "label_encoder = LabelEncoder()\n",
        "df['Fruit_LabelEncoded'] = label_encoder.fit_transform(df['Fruit'])\n",
        "\n",
        "print(\"\\nDataFrame after Label Encoding:\")\n",
        "print(df)\n"
      ],
      "metadata": {
        "id": "lLVsGGsXWovY"
      },
      "execution_count": null,
      "outputs": []
    },
    {
      "cell_type": "code",
      "source": [
        "# # One-Hot Encoding\n",
        "one_hot_encoder = OneHotEncoder(sparse=False)\n",
        "fruit_one_hot = one_hot_encoder.fit_transform(df[['Fruit']])\n",
        "fruit_one_hot_df = pd.DataFrame(fruit_one_hot, columns=one_hot_encoder.get_feature_names_out(['Fruit']))\n",
        "\n",
        "df_one_hot_encoded = pd.concat([df, fruit_one_hot_df], axis=1)\n",
        "\n",
        "print(\"\\nDataFrame after One-Hot Encoding:\")\n",
        "print(df_one_hot_encoded)\n"
      ],
      "metadata": {
        "id": "YFoUcTvKWxG3"
      },
      "execution_count": null,
      "outputs": []
    },
    {
      "cell_type": "markdown",
      "source": [
        "# Explanation:\n",
        "\n",
        "1. **Original DataFrame**: We start with a simple DataFrame that has a single column 'Fruit' with categorical data.\n",
        "\n",
        "2. **Label Encoding**:\n",
        "   - We use `LabelEncoder` from scikit-learn to convert each unique fruit name into a unique integer.\n",
        "   - A new column 'Fruit_LabelEncoded' is added to the DataFrame to store the encoded values.\n",
        "\n",
        "3. **One-Hot Encoding**:\n",
        "   - We use `OneHotEncoder` from scikit-learn to convert the 'Fruit' column into one-hot encoded format.\n",
        "   - This creates a binary matrix indicating the presence of each fruit.\n",
        "   - The result is stored in a new DataFrame, which is then concatenated with the original DataFrame.\n",
        "\n",
        "After running this example, you will see how the categorical 'Fruit' column is transformed into numerical formats using both label encoding and one-hot encoding.\n",
        "\n",
        "```\n"
      ],
      "metadata": {
        "id": "6iebqxhbXgvM"
      }
    },
    {
      "cell_type": "code",
      "source": [
        "# More example\n",
        "\n",
        "import pandas as pd\n",
        "from sklearn.preprocessing import LabelEncoder\n",
        "\n",
        "# Sample DataFrame with various categorical columns\n",
        "data = {\n",
        "    'Vehicle_Type': ['Car', 'Bike', 'Truck', 'Bike', 'Car', 'Truck'],\n",
        "    'Fuel_Type': ['Petrol', 'Petrol', 'Diesel', 'Diesel', 'Electric', 'Petrol'],\n",
        "    'Color': ['Red', 'Blue', 'Green', 'Red', 'Blue', 'Green']\n",
        "}\n",
        "\n",
        "df = pd.DataFrame(data)\n",
        "\n",
        "print(\"Original DataFrame:\")\n",
        "print(df)\n"
      ],
      "metadata": {
        "id": "I9Jt-zrcXpkQ"
      },
      "execution_count": null,
      "outputs": []
    },
    {
      "cell_type": "code",
      "source": [
        "# Applying Label Encoding\n",
        "label_encoder = LabelEncoder()\n",
        "\n",
        "# Encoding 'Vehicle_Type'\n",
        "df['Vehicle_Type_Encoded'] = label_encoder.fit_transform(df['Vehicle_Type'])\n",
        "\n",
        "# Encoding 'Fuel_Type'\n",
        "df['Fuel_Type_Encoded'] = label_encoder.fit_transform(df['Fuel_Type'])\n",
        "\n",
        "# Encoding 'Color'\n",
        "df['Color_Encoded'] = label_encoder.fit_transform(df['Color'])\n",
        "\n",
        "print(\"\\nDataFrame after Label Encoding:\")\n",
        "print(df)\n"
      ],
      "metadata": {
        "id": "rk--51qqXxBW"
      },
      "execution_count": null,
      "outputs": []
    },
    {
      "cell_type": "markdown",
      "source": [
        "\n",
        "# Explanation:\n",
        "\n",
        "1. **Original DataFrame**: We start with a DataFrame that includes information about different vehicles, including their type, fuel type, and color.\n",
        "\n",
        "2. **Label Encoding**:\n",
        "   - We use `LabelEncoder` from scikit-learn to convert the categorical data in each column into numerical format.\n",
        "   - For each column, a new column is added to store the encoded values. For example, 'Vehicle_Type' is encoded and stored in 'Vehicle_Type_Encoded'.\n",
        "   - The encoding is done based on alphabetical order of the categories. For instance, in 'Vehicle_Type', 'Bike' is encoded as 0, 'Car' as 1, and 'Truck' as 2.\n",
        "\n",
        "After running this example, you will see how label encoding transforms the categorical data in the DataFrame into a numerical format, making it easier to use in machine learning models. This example is interesting because it shows label encoding applied to multiple columns, each with different types of categories.\n",
        "```\n"
      ],
      "metadata": {
        "id": "NN1C9sSPX3uu"
      }
    }
  ]
}