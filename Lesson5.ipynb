{
  "nbformat": 4,
  "nbformat_minor": 0,
  "metadata": {
    "colab": {
      "provenance": []
    },
    "kernelspec": {
      "name": "python3",
      "display_name": "Python 3"
    },
    "language_info": {
      "name": "python"
    }
  },
  "cells": [
    {
      "cell_type": "markdown",
      "source": [
        "#Lesson 5: Object Oriented Programming\n",
        "#Author: Arnav Maskey\n"
      ],
      "metadata": {
        "id": "KW_KTdWRONXU"
      }
    },
    {
      "cell_type": "markdown",
      "source": [
        "Topic: Object Oriented Programming\n",
        "\n",
        "Basic Python Class Example\n",
        "\n",
        "1. Introduction to Object-Oriented Programming\n",
        "\n",
        "Object-oriented programming is a programming paradigm based on the concept of \"objects\", which can contain data and code: data in the form of fields (often known as attributes), and code, in the form of procedures (often known as methods).\n",
        "\n",
        "Object-oriented programming and the use of objects in programming offer several significant advantages:\n"
      ],
      "metadata": {
        "id": "4QtbojVoOadn"
      }
    },
    {
      "cell_type": "markdown",
      "source": [
        "**Modularity:** Objects help in building isolated modules or chunks of code. Each object is a self-contained unit. This modularity makes it easier to troubleshoot and maintain code, as changes to one object do not directly impact other parts of the program.\n",
        "\n",
        "**Encapsulation:** Objects encapsulate data and the methods that operate on that data. This means that the internal workings of an object can be hidden from the outside world. It's a way of restricting access to certain aspects of an object while exposing a controlled interface for interacting with it.\n",
        "\n",
        "**Reusability:** Objects can be reused across different parts of a program or even in different programs. This is achieved through inheritance, where a new class can inherit properties and methods from an existing class. Reusability saves time and effort as developers can use existing, tested, and debugged code.\n",
        "\n",
        "**Scalability:** Object-oriented programs are more scalable, making it easier to manage larger applications. As new objects can be created with small differences to existing ones, OOP is very useful for large, complex, and actively updated or maintained software.\n",
        "\n",
        "**Design Benefits:** Object-oriented design principles promote better organization of code and a clearer, more logical structure. This can lead to more efficient and effective problem-solving and development processes.\n"
      ],
      "metadata": {
        "id": "hM0OECpSOdhG"
      }
    },
    {
      "cell_type": "markdown",
      "source": [
        "2. Defining a Class\n",
        "\n",
        "A class in Python is like a blueprint for creating objects. Each class should represent a single concept or thing.\n"
      ],
      "metadata": {
        "id": "zuzsi9sLOwRf"
      }
    },
    {
      "cell_type": "code",
      "source": [
        "class Dog:\n",
        "    \"\"\"A simple dog class.\"\"\"\n",
        "\n",
        "    def __init__(self, name, age):\n",
        "        \"\"\"\n",
        "        Initialize name and age attributes.\n",
        "        :param name: string, name of the dog\n",
        "        :param age: int, age of the dog\n",
        "        \"\"\"\n",
        "        self.name = name\n",
        "        self.age = age\n",
        "\n",
        "    def sit(self):\n",
        "        \"\"\"Simulate a dog sitting in response to a command.\"\"\"\n",
        "        print(f\"{self.name} is now sitting.\")\n",
        "\n",
        "    def roll_over(self):\n",
        "        \"\"\"Simulate rolling over in response to a command.\"\"\"\n",
        "        print(f\"{self.name} rolled over!\")\n"
      ],
      "metadata": {
        "id": "Wr0Xc2A2PU2S"
      },
      "execution_count": 7,
      "outputs": []
    },
    {
      "cell_type": "markdown",
      "source": [
        "3. Creating an Object\n",
        "\n",
        "Now, let's create an instance (object) of the `Dog` class.\n"
      ],
      "metadata": {
        "id": "qdo729FgPd85"
      }
    },
    {
      "cell_type": "code",
      "source": [
        "my_dog = Dog(\"DogName\", 12)\n",
        "#Here, `my_dog` is an instance of the `Dog` class.\n"
      ],
      "metadata": {
        "id": "FuEmM3t8PpYj"
      },
      "execution_count": 8,
      "outputs": []
    },
    {
      "cell_type": "markdown",
      "source": [
        "4. Accessing Attributes\n",
        "\n",
        "You can access the attributes of an instance using the dot notation.\n"
      ],
      "metadata": {
        "id": "Dq6g4au_PwPw"
      }
    },
    {
      "cell_type": "code",
      "source": [
        "print(f\"My dog's name is {my_dog.name}.\")\n",
        "print(f\"My dog is {my_dog.age} years old.\")\n"
      ],
      "metadata": {
        "id": "xYNrbTT7Py55"
      },
      "execution_count": null,
      "outputs": []
    },
    {
      "cell_type": "markdown",
      "source": [
        "5. Calling Methods\n",
        "\n",
        "You can also call methods defined in the class.\n"
      ],
      "metadata": {
        "id": "ABmwV6pAP-b0"
      }
    },
    {
      "cell_type": "code",
      "source": [
        "my_dog.sit()\n",
        "my_dog.roll_over()\n",
        "\n"
      ],
      "metadata": {
        "id": "5WR8GiXgQExL"
      },
      "execution_count": null,
      "outputs": []
    },
    {
      "cell_type": "markdown",
      "source": [
        "6. Adding Complexity\n",
        "\n",
        "As you get more comfortable, you can add more methods and attributes to the class. For example, you might add a `breed` attribute, or a method to `bark`.\n"
      ],
      "metadata": {
        "id": "_HfXxUZTQe9j"
      }
    },
    {
      "cell_type": "code",
      "source": [
        "class Dog:\n",
        "    #A more complex dog class\n",
        "\n",
        "    def __init__(self, name, age, breed):\n",
        "        \"\"\"Initialize name, age, and breed attributes.\"\"\"\n",
        "        self.name = name\n",
        "        self.age = age\n",
        "        self.breed = breed\n",
        "\n",
        "    # Existing methods...\n",
        "\n",
        "    def bark(self):\n",
        "        \"\"\"Simulate a dog barking.\"\"\"\n",
        "        print(f\"{self.name} says Woof!\")\n"
      ],
      "metadata": {
        "id": "c5FDyx52Qjw6"
      },
      "execution_count": 11,
      "outputs": []
    }
  ]
}