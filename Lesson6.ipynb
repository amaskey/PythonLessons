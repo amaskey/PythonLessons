{
  "nbformat": 4,
  "nbformat_minor": 0,
  "metadata": {
    "colab": {
      "provenance": []
    },
    "kernelspec": {
      "name": "python3",
      "display_name": "Python 3"
    },
    "language_info": {
      "name": "python"
    }
  },
  "cells": [
    {
      "cell_type": "markdown",
      "source": [
        "\n",
        "# Basic Data Analysis: Loading and Viewing Data\n",
        "1. Learn to load data using Pandas and view basic information.\n",
        "\n"
      ],
      "metadata": {
        "id": "TDJ-h7RevAxg"
      }
    },
    {
      "cell_type": "code",
      "source": [
        "import pandas as pd\n",
        "\n",
        "# Load a CSV file\n",
        "df = pd.read_csv('sample_data.csv')\n",
        "#sample_data.csv has been created, upload to the drive or the local machine\n",
        "\n",
        "# Display the first few rows of the DataFrame\n",
        "print(df.head())\n",
        "\n",
        "# Basic information about the dataset\n",
        "print(df.info())\n"
      ],
      "metadata": {
        "id": "R-TEniwJvNSF"
      },
      "execution_count": null,
      "outputs": []
    },
    {
      "cell_type": "markdown",
      "source": [
        "\n",
        "2. Perform basic data exploration to understand the dataset.\n"
      ],
      "metadata": {
        "id": "5YP4Ke3ybHqo"
      }
    },
    {
      "cell_type": "code",
      "source": [
        "# Descriptive statistics\n",
        "print(df.describe())\n",
        "\n",
        "# Count of unique values in a column\n",
        "print(df['column_name'].value_counts())\n"
      ],
      "metadata": {
        "id": "zLrIb3JZbJhc"
      },
      "execution_count": null,
      "outputs": []
    },
    {
      "cell_type": "markdown",
      "source": [
        "3. Clean the data by handling missing values and filtering.\n"
      ],
      "metadata": {
        "id": "zky_xhLJbS79"
      }
    },
    {
      "cell_type": "code",
      "source": [
        "# Handling missing values\n",
        "df = df.fillna(method='ffill')  # Forward fill\n",
        "\n",
        "# Filtering data\n",
        "filtered_df = df[df['column_name'] > value]\n"
      ],
      "metadata": {
        "id": "LcjXalCjbVe2"
      },
      "execution_count": null,
      "outputs": []
    },
    {
      "cell_type": "markdown",
      "source": [
        "4. Visualize data distributions and relationships"
      ],
      "metadata": {
        "id": "rkIXprZhbvcb"
      }
    },
    {
      "cell_type": "code",
      "source": [
        "import matplotlib.pyplot as plt\n",
        "\n",
        "# Histogram\n",
        "df['column_name'].hist()\n",
        "plt.title('Distribution of Column')\n",
        "plt.xlabel('Column')\n",
        "plt.ylabel('Frequency')\n",
        "plt.show()\n",
        "\n",
        "# Scatter plot\n",
        "plt.scatter(df['column1'], df['column2'])\n",
        "plt.title('Column1 vs Column2')\n",
        "plt.xlabel('Column1')\n",
        "plt.ylabel('Column2')\n",
        "plt.show()\n"
      ],
      "metadata": {
        "id": "h9tIcKxIbzrt"
      },
      "execution_count": null,
      "outputs": []
    },
    {
      "cell_type": "markdown",
      "source": [
        "5. Group data and perform aggregate calculations.\n"
      ],
      "metadata": {
        "id": "65NiHD6vb2B3"
      }
    },
    {
      "cell_type": "code",
      "source": [
        "# Group by a column and aggregate\n",
        "grouped = df.groupby('group_column').mean()\n",
        "print(grouped)\n"
      ],
      "metadata": {
        "id": "Tmulp4msb6b4"
      },
      "execution_count": null,
      "outputs": []
    },
    {
      "cell_type": "markdown",
      "source": [
        "6. Handle and analyze time-series data.\n"
      ],
      "metadata": {
        "id": "C7q2j_qdb8ZJ"
      }
    },
    {
      "cell_type": "code",
      "source": [
        "# Convert column to datetime\n",
        "df['date_column'] = pd.to_datetime(df['date_column'])\n",
        "\n",
        "# Set date column as index\n",
        "df.set_index('date_column', inplace=True)\n",
        "\n",
        "# Resampling data by month and computing mean\n",
        "monthly_data = df.resample('M').mean()\n",
        "print(monthly_data)\n",
        "\n"
      ],
      "metadata": {
        "id": "tVNnR4FMb-6o"
      },
      "execution_count": null,
      "outputs": []
    },
    {
      "cell_type": "markdown",
      "source": [
        "7. Perform advanced operations like merging, joining, and pivoting.\n"
      ],
      "metadata": {
        "id": "gBGLQOLdcBpP"
      }
    },
    {
      "cell_type": "code",
      "source": [
        "# Merging two DataFrames\n",
        "df1 = pd.DataFrame({'key': ['A', 'B', 'C'], 'value': [1, 2, 3]})\n",
        "df2 = pd.DataFrame({'key': ['B', 'C', 'D'], 'value': [4, 5, 6]})\n",
        "merged_df = pd.merge(df1, df2, on='key')\n",
        "print(merged_df)\n",
        "\n",
        "# Pivot table\n",
        "pivot = df.pivot_table(index='row', columns='column', values='value', aggfunc='mean')\n",
        "print(pivot)\n"
      ],
      "metadata": {
        "id": "nqiY6HjJcHlT"
      },
      "execution_count": null,
      "outputs": []
    },
    {
      "cell_type": "markdown",
      "source": [
        "8. Create more complex plots and visualizations.\n"
      ],
      "metadata": {
        "id": "zPCnGhaicL5R"
      }
    },
    {
      "cell_type": "code",
      "source": [
        "# Box plot\n",
        "df.boxplot(column='column_name', by='group_column')\n",
        "plt.title('Box Plot')\n",
        "plt.show()\n",
        "\n",
        "# Pairplot (using Seaborn)\n",
        "import seaborn as sns\n",
        "sns.pairplot(df)\n",
        "plt.show()\n"
      ],
      "metadata": {
        "id": "hdH2yO8ecOiP"
      },
      "execution_count": null,
      "outputs": []
    },
    {
      "cell_type": "markdown",
      "source": [
        "9. Apply basic statistical tests.\n"
      ],
      "metadata": {
        "id": "il4ZQB_ZcQhT"
      }
    },
    {
      "cell_type": "code",
      "source": [
        "from scipy import stats\n",
        "\n",
        "# T-test\n",
        "t_stat, p_val = stats.ttest_ind(df['column1'], df['column2'])\n",
        "print(\"T-statistic:\", t_stat, \"P-value:\", p_val)\n"
      ],
      "metadata": {
        "id": "_cH0rXEfcS6D"
      },
      "execution_count": null,
      "outputs": []
    },
    {
      "cell_type": "markdown",
      "source": [
        "10. Use a simple machine learning model for prediction.\n"
      ],
      "metadata": {
        "id": "bRJ8-yNGcU8d"
      }
    },
    {
      "cell_type": "code",
      "source": [
        "from sklearn.model_selection import train_test_split\n",
        "from sklearn.linear_model import LinearRegression\n",
        "\n",
        "# Assuming df has features and target\n",
        "X = df[['feature1', 'feature2']]\n",
        "y = df['target']\n",
        "\n",
        "# Splitting data into training and testing sets\n",
        "X_train, X_test, y_train, y_test = train_test_split(X, y, test_size=0.2)\n",
        "\n",
        "# Linear Regression Model\n",
        "model = LinearRegression()\n",
        "model.fit(X_train, y_train)\n",
        "\n",
        "# Predictions\n",
        "predictions = model.predict(X_test)\n",
        "print(predictions)\n"
      ],
      "metadata": {
        "id": "4F1wdM8pcXBy"
      },
      "execution_count": null,
      "outputs": []
    }
  ]
}